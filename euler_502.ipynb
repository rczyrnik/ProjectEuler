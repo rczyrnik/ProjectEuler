{
 "cells": [
  {
   "cell_type": "code",
   "execution_count": 8,
   "id": "6f50fee3-ad74-4c55-8a86-2272f4377495",
   "metadata": {},
   "outputs": [
    {
     "name": "stdout",
     "output_type": "stream",
     "text": [
      "hello\n"
     ]
    }
   ],
   "source": [
    "from math import ceil\n",
    "import math\n",
    "print(\"hello\")"
   ]
  },
  {
   "cell_type": "code",
   "execution_count": 74,
   "id": "3e42a523-ad91-44a5-9440-8f226818d814",
   "metadata": {},
   "outputs": [
    {
     "name": "stdout",
     "output_type": "stream",
     "text": [
      "{}\n"
     ]
    }
   ],
   "source": [
    "castle_dict = {}\n",
    "# width first then height\n",
    "\n",
    "print(castle_dict)"
   ]
  },
  {
   "cell_type": "code",
   "execution_count": 6,
   "id": "3814a5de-d35a-4fd1-ac9b-f3d7b38c3508",
   "metadata": {},
   "outputs": [
    {
     "name": "stdout",
     "output_type": "stream",
     "text": [
      "····\n"
     ]
    }
   ],
   "source": [
    "def display_grid(grid):\n",
    "    (w,h) = grid\n",
    "\n",
    "    for j in range(h-1):\n",
    "        for i in range(w):\n",
    "            print(\"·\", end=\"\")\n",
    "        print()\n",
    "\n",
    "display_grid((4,2))"
   ]
  },
  {
   "cell_type": "code",
   "execution_count": 76,
   "id": "8248532a-83e7-48d8-9aa3-8cffe705e4dd",
   "metadata": {},
   "outputs": [
    {
     "name": "stdout",
     "output_type": "stream",
     "text": [
      "doesn't exist yet\n"
     ]
    }
   ],
   "source": [
    "def find_castle_count(width, height):\n",
    "    try: \n",
    "        print(castle_dict[(width, height)])\n",
    "    except:\n",
    "        if width == 1:\n",
    "            castle_count = ceil(height/2)\n",
    "        elif height == 1:\n",
    "            castle_count = \n",
    "        else\n",
    "        print(\"doesn't exist yet\")\n",
    "\n",
    "find_castle_count(2, 2)"
   ]
  },
  {
   "cell_type": "code",
   "execution_count": 77,
   "id": "12b898cc-ade4-474c-96d4-a45e4bb86d7f",
   "metadata": {},
   "outputs": [
    {
     "name": "stdout",
     "output_type": "stream",
     "text": [
      "4\n"
     ]
    }
   ],
   "source": [
    "def find_new_castle_count(width,height):\n",
    "    max_gap_count = ceil(width/2)\n",
    "    print(max_gap_count)\n",
    "find_new_castle_count(8,2)"
   ]
  },
  {
   "cell_type": "code",
   "execution_count": 78,
   "id": "6781071b-77f5-4579-984a-e698aafe0ab9",
   "metadata": {},
   "outputs": [
    {
     "name": "stdout",
     "output_type": "stream",
     "text": [
      "{(1, 1): 1}\n"
     ]
    }
   ],
   "source": [
    "castle_dict[(1,1)] = 1\n",
    "print(castle_dict)"
   ]
  },
  {
   "cell_type": "code",
   "execution_count": null,
   "id": "3eb658d6-ce8a-412d-8590-1c9575d904ce",
   "metadata": {},
   "outputs": [],
   "source": []
  },
  {
   "cell_type": "code",
   "execution_count": null,
   "id": "240f2015-2c22-4f47-91ae-b74881d50f8f",
   "metadata": {},
   "outputs": [],
   "source": []
  },
  {
   "cell_type": "code",
   "execution_count": null,
   "id": "45af23ae-3167-4eb9-88e9-6542504cfd7e",
   "metadata": {},
   "outputs": [],
   "source": []
  },
  {
   "cell_type": "code",
   "execution_count": null,
   "id": "9978b101-f4ff-4b72-a87b-71b051ad5fb3",
   "metadata": {},
   "outputs": [],
   "source": []
  },
  {
   "cell_type": "code",
   "execution_count": null,
   "id": "716e3617-bc1f-42e9-9040-95f42019d7d7",
   "metadata": {},
   "outputs": [],
   "source": []
  },
  {
   "cell_type": "code",
   "execution_count": 17,
   "id": "10a98fb7-8a49-4ad8-9fa7-95d7617edb0a",
   "metadata": {},
   "outputs": [
    {
     "data": {
      "text/plain": [
       "16"
      ]
     },
     "execution_count": 17,
     "metadata": {},
     "output_type": "execute_result"
    }
   ],
   "source": [
    "def get_next_highest_pwr_of_two(n):\n",
    "    return 2**math.floor(math.log(n,2))\n",
    "\n",
    "get_next_highest_pwr_of_two(16)"
   ]
  },
  {
   "cell_type": "code",
   "execution_count": 48,
   "id": "7a1915b0-0729-495a-a7fc-5e99f72c2e72",
   "metadata": {},
   "outputs": [
    {
     "name": "stdout",
     "output_type": "stream",
     "text": [
      "True\n"
     ]
    }
   ],
   "source": [
    "def binary_num_is_valid(n):\n",
    "    t = get_next_highest_pwr_of_two(n)\n",
    "    if n == 0:\n",
    "        return False\n",
    "    elif n == 1:\n",
    "        return True\n",
    "    elif n == t:\n",
    "        return True\n",
    "    else:\n",
    "        v = binary_num_is_valid(n-t)\n",
    "        return (n >= 1.5 * t ) == v\n",
    "        \n",
    "# for i in range(1, 32):\n",
    "    # print(i, is_valid(i))\n",
    "print(binary_num_is_valid(4))"
   ]
  },
  {
   "cell_type": "code",
   "execution_count": null,
   "id": "af5ad284-f4b8-4250-a6c3-045110ba6579",
   "metadata": {},
   "outputs": [],
   "source": []
  }
 ],
 "metadata": {
  "kernelspec": {
   "display_name": "Python 3 (ipykernel)",
   "language": "python",
   "name": "python3"
  },
  "language_info": {
   "codemirror_mode": {
    "name": "ipython",
    "version": 3
   },
   "file_extension": ".py",
   "mimetype": "text/x-python",
   "name": "python",
   "nbconvert_exporter": "python",
   "pygments_lexer": "ipython3",
   "version": "3.12.0"
  }
 },
 "nbformat": 4,
 "nbformat_minor": 5
}
